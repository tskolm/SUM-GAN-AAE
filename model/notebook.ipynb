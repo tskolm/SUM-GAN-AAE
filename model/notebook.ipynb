{
 "cells": [
  {
   "cell_type": "code",
   "execution_count": 1,
   "metadata": {},
   "outputs": [
    {
     "name": "stdout",
     "output_type": "stream",
     "text": [
      "Traceback (most recent call last):\r\n",
      "  File \"main.py\", line 2, in <module>\r\n",
      "    from solver import Solver\r\n",
      "  File \"/Users/tatiana/Documents/video_summ/SUM-GAN-AAE/model/solver.py\", line 13, in <module>\r\n",
      "    original_label = torch.tensor(1.0).cuda()\r\n",
      "  File \"/opt/anaconda3/lib/python3.8/site-packages/torch/cuda/__init__.py\", line 164, in _lazy_init\r\n",
      "    raise AssertionError(\"Torch not compiled with CUDA enabled\")\r\n",
      "AssertionError: Torch not compiled with CUDA enabled\r\n"
     ]
    }
   ],
   "source": [
    "! python main.py --split_index N"
   ]
  }
 ],
 "metadata": {
  "kernelspec": {
   "display_name": "Python 3",
   "language": "python",
   "name": "python3"
  },
  "language_info": {
   "codemirror_mode": {
    "name": "ipython",
    "version": 3
   },
   "file_extension": ".py",
   "mimetype": "text/x-python",
   "name": "python",
   "nbconvert_exporter": "python",
   "pygments_lexer": "ipython3",
   "version": "3.8.5"
  }
 },
 "nbformat": 4,
 "nbformat_minor": 4
}
